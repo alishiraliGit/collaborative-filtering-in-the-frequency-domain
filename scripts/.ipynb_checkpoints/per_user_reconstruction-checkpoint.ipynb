{
 "cells": [
  {
   "cell_type": "code",
   "execution_count": 29,
   "metadata": {},
   "outputs": [],
   "source": [
    "import numpy as np\n",
    "import csv\n",
    "import tensorflow as tf\n",
    "import tensorflow.keras.backend as K\n",
    "from tensorflow.keras.layers import Dense, Lambda\n",
    "from tensorflow.keras import Model, Input\n",
    "from tensorflow.keras.initializers import RandomUniform\n"
   ]
  },
  {
   "cell_type": "code",
   "execution_count": 2,
   "metadata": {},
   "outputs": [],
   "source": [
    "def vandermonde_multiplier(dim_x, m):\n",
    "    dim_v = (m + 1)**dim_x\n",
    "    \n",
    "    v_mult_row = np.zeros((dim_x,))\n",
    "    v_mult = np.zeros((dim_v, dim_x))\n",
    "    \n",
    "    for i_row in range(1, dim_v):\n",
    "        v_mult_row[0] += 1\n",
    "        \n",
    "        for i_dim in range(dim_x - 1):\n",
    "            if v_mult_row[i_dim] >= (m + 1):\n",
    "                v_mult_row[i_dim + 1] += v_mult_row[i_dim] // (m + 1)\n",
    "                v_mult_row[i_dim] %= (m + 1)\n",
    "        \n",
    "        v_mult[i_row, :] = v_mult_row\n",
    "        \n",
    "    return v_mult\n"
   ]
  },
  {
   "cell_type": "code",
   "execution_count": 75,
   "metadata": {},
   "outputs": [],
   "source": [
    "def get_edge_list_from_file(file_path, file_name):\n",
    "    edges = []\n",
    "    with open(file_path + '/' + file_name) as data_file:\n",
    "        data_reader = csv.reader(data_file, delimiter='\\t')\n",
    "        \n",
    "        n_user = 0\n",
    "        n_item = 0\n",
    "        for row in data_reader:\n",
    "            user, item, value = int(row[0]), int(row[1]), float(row[2])\n",
    "            edges += [( user, item, value )]\n",
    "            \n",
    "            n_user = max([n_user, user])\n",
    "            n_item = max([n_item, item])\n",
    "\n",
    "    return edges, n_user, n_item\n",
    "\n",
    "\n",
    "def get_observed_dic_from_edge_list(edges):\n",
    "    users_dic = {}\n",
    "    items_dic = {}\n",
    "    user_item_dic = {}\n",
    "    for user, item, value in edges:\n",
    "        \n",
    "        user_item_dic[(user, item)] = value\n",
    "\n",
    "        # update users_dic\n",
    "        if user in users_dic:\n",
    "            users_dic[user] += [item]\n",
    "        else:\n",
    "            users_dic[user] = [item]\n",
    "\n",
    "        # update items_dic\n",
    "        if item in items_dic:\n",
    "            items_dic[item] += [user]\n",
    "        else:\n",
    "            items_dic[item] = [user]\n",
    "            \n",
    "\n",
    "    return users_dic, items_dic, user_item_dic\n",
    "\n",
    "\n",
    "def get_input_output(n_item, n_user, user_item_dic):\n",
    "    x_one_hot = np.eye(n_item)\n",
    "    \n",
    "    s_full = np.ones((n_item, n_user))*-1\n",
    "    for user_item, val in user_item_dic.items():\n",
    "        user, item = user_item\n",
    "        s_full[item - 1, user - 1] = val\n",
    "        \n",
    "    return x_one_hot, s_full"
   ]
  },
  {
   "cell_type": "code",
   "execution_count": 76,
   "metadata": {},
   "outputs": [],
   "source": [
    "load_path = '../smooth-reconstruction-of-preference-function/data/ml-100k'\n",
    "\n",
    "_, n_user, n_item = get_edge_list_from_file(load_path, 'u.data')\n",
    "edges_tr, _, _ = get_edge_list_from_file(load_path, 'u3.base')\n",
    "edges_te, _, _ = get_edge_list_from_file(load_path, 'u3.test')\n",
    "\n",
    "users_dic_tr, items_dic_tr, r_tr = get_observed_dic_from_edge_list(edges_tr)\n",
    "users_dic_te, items_dic_te, r_te = get_observed_dic_from_edge_list(edges_te)\n"
   ]
  },
  {
   "cell_type": "code",
   "execution_count": 79,
   "metadata": {},
   "outputs": [],
   "source": [
    "x_one_hot_tr, s_full_tr = get_input_output(n_item, n_user, r_tr)\n",
    "x_one_hot_te, s_full_te = get_input_output(n_item, n_user, r_te)\n"
   ]
  },
  {
   "cell_type": "code",
   "execution_count": 73,
   "metadata": {},
   "outputs": [],
   "source": [
    "dim_x = 5\n",
    "m = 3\n",
    "\n",
    "v_mult = vandermonde_multiplier(dim_x, m)\n",
    "\n",
    "dim_v = v_mult.shape[0]\n"
   ]
  },
  {
   "cell_type": "code",
   "execution_count": 74,
   "metadata": {},
   "outputs": [
    {
     "name": "stdout",
     "output_type": "stream",
     "text": [
      "Model: \"functional_13\"\n",
      "_________________________________________________________________\n",
      "Layer (type)                 Output Shape              Param #   \n",
      "=================================================================\n",
      "input_8 (InputLayer)         [(None, 1682)]            0         \n",
      "_________________________________________________________________\n",
      "dense_11 (Dense)             (None, 5)                 8410      \n",
      "_________________________________________________________________\n",
      "v_mult (Dense)               (None, 1024)              5120      \n",
      "_________________________________________________________________\n",
      "lambda_5 (Lambda)            (None, 1024)              0         \n",
      "_________________________________________________________________\n",
      "dense_12 (Dense)             (None, 943)               965632    \n",
      "=================================================================\n",
      "Total params: 979,162\n",
      "Trainable params: 965,632\n",
      "Non-trainable params: 13,530\n",
      "_________________________________________________________________\n"
     ]
    }
   ],
   "source": [
    "input_one_hot_layer = Input(shape=(n_item,))\n",
    "x_layer = Dense(dim_x,\n",
    "                use_bias=False,\n",
    "                trainable=False,\n",
    "                kernel_initializer=RandomUniform(minval=-1, maxval=1))(input_one_hot_layer)\n",
    "\n",
    "v_mult_layer = Dense(dim_v,\n",
    "                     use_bias=False,\n",
    "                     trainable=False,\n",
    "                     name='v_mult')(x_layer)\n",
    "\n",
    "v_cos_layer = Lambda(lambda x: K.cos(np.pi*x))(v_mult_layer)\n",
    "\n",
    "a_layer = Dense(n_user,\n",
    "                use_bias=False)(v_cos_layer)\n",
    "\n",
    "mdl = Model(inputs=input_one_hot_layer, outputs=a_layer)\n",
    "mdl.summary()"
   ]
  },
  {
   "cell_type": "code",
   "execution_count": 26,
   "metadata": {},
   "outputs": [],
   "source": [
    "# Set v_layer weights\n",
    "mdl.get_layer(name='v_mult').set_weights([v_mult.T])\n"
   ]
  },
  {
   "cell_type": "code",
   "execution_count": 88,
   "metadata": {},
   "outputs": [
    {
     "data": {
      "text/plain": [
       "<tf.Tensor: shape=(3,), dtype=int32, numpy=array([1, 1, 2], dtype=int32)>"
      ]
     },
     "execution_count": 88,
     "metadata": {},
     "output_type": "execute_result"
    }
   ],
   "source": [
    "a = tf.constant([[1, 0, -1], [1, 0, 2]])\n",
    "a[a > 0]"
   ]
  },
  {
   "cell_type": "code",
   "execution_count": null,
   "metadata": {},
   "outputs": [],
   "source": [
    "def custom_loss(y_true, y_pred):\n",
    "    mask = y_true > 0\n",
    "    diff = y_true - y_pred\n",
    "    \n",
    "    return K.sum(K.square(diff[mask]), axis=1)\n",
    "    "
   ]
  }
 ],
 "metadata": {
  "kernelspec": {
   "display_name": "devenv",
   "language": "python",
   "name": "devenv"
  },
  "language_info": {
   "codemirror_mode": {
    "name": "ipython",
    "version": 3
   },
   "file_extension": ".py",
   "mimetype": "text/x-python",
   "name": "python",
   "nbconvert_exporter": "python",
   "pygments_lexer": "ipython3",
   "version": "3.8.2"
  }
 },
 "nbformat": 4,
 "nbformat_minor": 4
}
